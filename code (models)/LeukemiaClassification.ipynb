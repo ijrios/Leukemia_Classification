{
  "nbformat": 4,
  "nbformat_minor": 0,
  "metadata": {
    "colab": {
      "provenance": []
    },
    "kernelspec": {
      "name": "python3",
      "display_name": "Python 3"
    },
    "language_info": {
      "name": "python"
    }
  },
  "cells": [
    {
      "cell_type": "code",
      "execution_count": 70,
      "metadata": {
        "colab": {
          "base_uri": "https://localhost:8080/",
          "height": 36
        },
        "id": "Wf4g-zXqSgli",
        "outputId": "bbc2cd65-d619-4a4d-99eb-66ef0dd935fd"
      },
      "outputs": [
        {
          "output_type": "execute_result",
          "data": {
            "text/plain": [
              "'2.13.0'"
            ],
            "application/vnd.google.colaboratory.intrinsic+json": {
              "type": "string"
            }
          },
          "metadata": {},
          "execution_count": 70
        }
      ],
      "source": [
        "from sklearn.model_selection import train_test_split\n",
        "from tensorflow.keras.models import load_model\n",
        "from tensorflow.keras import layers\n",
        "from tensorflow import keras\n",
        "import numpy as np\n",
        "import tensorflow\n",
        "import datetime\n",
        "import cv2\n",
        "import os\n",
        "tensorflow.__version__"
      ]
    },
    {
      "cell_type": "code",
      "source": [
        "! git clone https://github.com/ijrios/Leukemia_Classification"
      ],
      "metadata": {
        "colab": {
          "base_uri": "https://localhost:8080/"
        },
        "id": "yjwzNr2lcCE7",
        "outputId": "f8f3bfb0-6266-4ace-ccf6-c08e05d0d986"
      },
      "execution_count": 5,
      "outputs": [
        {
          "output_type": "stream",
          "name": "stdout",
          "text": [
            "Cloning into 'Leukemia_Classification'...\n",
            "remote: Enumerating objects: 790, done.\u001b[K\n",
            "remote: Counting objects: 100% (790/790), done.\u001b[K\n",
            "remote: Compressing objects: 100% (760/760), done.\u001b[K\n",
            "remote: Total 790 (delta 27), reused 785 (delta 26), pack-reused 0\u001b[K\n",
            "Receiving objects: 100% (790/790), 10.73 MiB | 24.53 MiB/s, done.\n",
            "Resolving deltas: 100% (27/27), done.\n"
          ]
        }
      ]
    },
    {
      "cell_type": "code",
      "source": [
        "data_dir = '/content/Leukemia_Classification/data/images/Original'\n",
        "class_labels = os.listdir(data_dir)  #Lista de carpetas, cada una representando una clase\n",
        "\n",
        "images = []\n",
        "labels = []\n",
        "\n",
        "width = 224 #Ancho en píxeles\n",
        "height = 224 #Altura en píxeles\n",
        "\n",
        "\n",
        "for label, class_name in enumerate(class_labels):\n",
        "    class_dir = os.path.join(data_dir, class_name)\n",
        "    for image_name in os.listdir(class_dir):\n",
        "        image_path = os.path.join(class_dir, image_name)\n",
        "        image = cv2.imread(image_path)\n",
        "        if image is not None:\n",
        "            image = cv2.resize(image, (width, height))\n",
        "            image = image / 255.0  #Normalización valores de píxeles al rango [0, 1]\n",
        "            images.append(image)\n",
        "            labels.append(label)\n",
        "        else:\n",
        "            print(f\"Error al cargar la imagen: {image_path}\")\n",
        "\n",
        "images = np.array(images)\n",
        "labels = np.array(labels)\n",
        "\n",
        "train_images, test_images, train_labels, test_labels = train_test_split(images, labels, test_size=0.2, random_state=42)"
      ],
      "metadata": {
        "id": "QnFcy4LBXqon"
      },
      "execution_count": 127,
      "outputs": []
    },
    {
      "cell_type": "code",
      "source": [
        "#CNN model\n",
        "model = keras.Sequential([\n",
        "    layers.Conv2D(32, (3, 3), activation='relu', input_shape=(height, width, 3)),\n",
        "    layers.MaxPooling2D((2, 2)),\n",
        "    layers.Conv2D(64, (3, 3), activation='relu'),\n",
        "    layers.MaxPooling2D((2, 2)),\n",
        "    layers.Flatten(),\n",
        "    layers.Dense(128, activation='relu'),\n",
        "    layers.Dense(4, activation='softmax')\n",
        "])\n",
        "\n",
        "model.compile(optimizer='adam',\n",
        "              loss='sparse_categorical_crossentropy',\n",
        "              metrics=['accuracy'])\n",
        "#Train model\n",
        "model.fit(train_images, train_labels, epochs=10, validation_data=(test_images, test_labels))"
      ],
      "metadata": {
        "colab": {
          "base_uri": "https://localhost:8080/"
        },
        "id": "elMcG5ZNSwIa",
        "outputId": "900746b9-a6b8-49be-f527-1cd548ff585d"
      },
      "execution_count": 135,
      "outputs": [
        {
          "output_type": "stream",
          "name": "stdout",
          "text": [
            "Epoch 1/10\n",
            "10/10 [==============================] - 37s 4s/step - loss: 10.8081 - accuracy: 0.2188 - val_loss: 2.4517 - val_accuracy: 0.2250\n",
            "Epoch 2/10\n",
            "10/10 [==============================] - 40s 4s/step - loss: 1.5547 - accuracy: 0.2125 - val_loss: 1.3205 - val_accuracy: 0.2375\n",
            "Epoch 3/10\n",
            "10/10 [==============================] - 44s 5s/step - loss: 1.2391 - accuracy: 0.4281 - val_loss: 1.0228 - val_accuracy: 0.5625\n",
            "Epoch 4/10\n",
            "10/10 [==============================] - 33s 3s/step - loss: 0.9477 - accuracy: 0.5719 - val_loss: 1.0151 - val_accuracy: 0.4500\n",
            "Epoch 5/10\n",
            "10/10 [==============================] - 30s 3s/step - loss: 0.7498 - accuracy: 0.6969 - val_loss: 0.9216 - val_accuracy: 0.5250\n",
            "Epoch 6/10\n",
            "10/10 [==============================] - 32s 3s/step - loss: 0.4500 - accuracy: 0.8875 - val_loss: 1.0055 - val_accuracy: 0.6375\n",
            "Epoch 7/10\n",
            "10/10 [==============================] - 32s 3s/step - loss: 0.2780 - accuracy: 0.9156 - val_loss: 0.8158 - val_accuracy: 0.6625\n",
            "Epoch 8/10\n",
            "10/10 [==============================] - 39s 4s/step - loss: 0.1891 - accuracy: 0.9469 - val_loss: 0.9423 - val_accuracy: 0.6625\n",
            "Epoch 9/10\n",
            "10/10 [==============================] - 31s 3s/step - loss: 0.1055 - accuracy: 0.9750 - val_loss: 0.9947 - val_accuracy: 0.6875\n",
            "Epoch 10/10\n",
            "10/10 [==============================] - 31s 3s/step - loss: 0.0501 - accuracy: 0.9937 - val_loss: 0.9674 - val_accuracy: 0.6625\n"
          ]
        },
        {
          "output_type": "execute_result",
          "data": {
            "text/plain": [
              "<keras.src.callbacks.History at 0x7b7947a99a80>"
            ]
          },
          "metadata": {},
          "execution_count": 135
        }
      ]
    },
    {
      "cell_type": "code",
      "source": [
        "Test_org = '/content/sodapdf-converted.jpg'\n",
        "\n",
        "# Definir rangos de tolerancia para los colores en HSV\n",
        "rosado_bajo = np.array([140, 100, 100])\n",
        "rosado_alto = np.array([180, 255, 255])\n",
        "\n",
        "rojo_bajo = np.array([0, 100, 100])\n",
        "rojo_alto = np.array([40, 255, 255])\n",
        "\n",
        "\n",
        "image = cv2.imread(Test_org)\n",
        "image = cv2.cvtColor(image, cv2.COLOR_RGB2HSV)\n",
        "mask1 = cv2.inRange(image, rosado_bajo, rosado_alto)\n",
        "mask2 = cv2.inRange(image, rojo_bajo, rojo_alto)\n",
        "mask = cv2.bitwise_or(mask1, mask2)\n",
        "result = cv2.bitwise_and(image, image, mask=mask)\n",
        "result = cv2.resize(result, (224, 224))\n",
        "image_name = Test_org.split(sep='/')[-1]\n",
        "Test_seg = f'/content/Test-images/Seg-{image_name}'\n",
        "cv2.imwrite(Test_seg, result)"
      ],
      "metadata": {
        "id": "ZV_-_6MkSnaf",
        "colab": {
          "base_uri": "https://localhost:8080/"
        },
        "outputId": "1833bbba-31cb-405f-9d2c-c2205ac7e39b"
      },
      "execution_count": 129,
      "outputs": [
        {
          "output_type": "execute_result",
          "data": {
            "text/plain": [
              "True"
            ]
          },
          "metadata": {},
          "execution_count": 129
        }
      ]
    },
    {
      "cell_type": "code",
      "source": [
        "import cv2\n",
        "import numpy as np\n",
        "\n",
        "image = cv2.imread('/content/sodapdf-converted.jpg')\n",
        "\n",
        "hsv_image = cv2.cvtColor(image, cv2.COLOR_BGR2HSV)\n",
        "\n",
        "lower_color = np.array([40, 100, 90])\n",
        "upper_color = np.array([80, 255, 255])\n",
        "lower_black = np.array([0, 0, 0])\n",
        "upper_black = np.array([179, 255, 30])\n",
        "\n",
        "mask_color = cv2.inRange(hsv_image, lower_color, upper_color)\n",
        "mask_black = cv2.inRange(hsv_image, lower_black, upper_black)\n",
        "mask_combined = cv2.bitwise_and(mask_color, cv2.bitwise_not(mask_black))\n",
        "result = cv2.bitwise_and(image, image, mask=mask_combined)\n",
        "\n",
        "image_name = Test_org.split(sep='/')[-1]\n",
        "Test_seg = f'/content/Test-images/Seg-{image_name}'\n",
        "cv2.imwrite(Test_seg, result)"
      ],
      "metadata": {
        "colab": {
          "base_uri": "https://localhost:8080/"
        },
        "id": "4NhJ4tpz3AKN",
        "outputId": "a949cbba-e35d-409b-b18f-d288eb1b501f"
      },
      "execution_count": 103,
      "outputs": [
        {
          "output_type": "execute_result",
          "data": {
            "text/plain": [
              "True"
            ]
          },
          "metadata": {},
          "execution_count": 103
        }
      ]
    },
    {
      "cell_type": "code",
      "source": [
        "from IPython.display import Image, display\n",
        "\n",
        "image_path = '/content/Test-images/Seg-sodapdf-converted.jpg'\n",
        "display(Image(filename=image_path))"
      ],
      "metadata": {
        "colab": {
          "base_uri": "https://localhost:8080/",
          "height": 241
        },
        "id": "gugruyhpkXZg",
        "outputId": "31005059-8263-404e-d608-024d2fe3a920"
      },
      "execution_count": 131,
      "outputs": [
        {
          "output_type": "display_data",
          "data": {
            "image/jpeg": "[encoded data removed]",
            "text/plain": [
              "<IPython.core.display.Image object>"
            ]
          },
          "metadata": {}
        }
      ]
    },
    {
      "cell_type": "code",
      "source": [
        "def input_samples (TEST):\n",
        "    test_img = tensorflow.keras.preprocessing.image.load_img(TEST, target_size=(224, 224))\n",
        "    x = tensorflow.keras.preprocessing.image.img_to_array(test_img)\n",
        "    x = np.expand_dims(x, axis=0)\n",
        "    x = x/255\n",
        "    images = np.vstack([x])\n",
        "    return images"
      ],
      "metadata": {
        "id": "NtUbZmmmknl3"
      },
      "execution_count": 132,
      "outputs": []
    },
    {
      "cell_type": "code",
      "source": [
        "def load_and_preprocess_image(image_path, target_size=(224, 224)):\n",
        "    img = cv2.imread(image_path)\n",
        "    img = cv2.cvtColor(img, cv2.COLOR_BGR2RGB)  # Convertir a formato RGB\n",
        "    img = cv2.resize(img, target_size)  # Redimensionar la imagen al tamaño de entrada del modelo\n",
        "    img = img / 255.0  # Normalizar los valores de píxeles al rango [0, 1]\n",
        "    img = np.expand_dims(img, axis=0)  # Agregar una dimensión para que sea compatible con el modelo\n",
        "    return img"
      ],
      "metadata": {
        "id": "z_BmvXtODezN"
      },
      "execution_count": 139,
      "outputs": []
    },
    {
      "cell_type": "code",
      "source": [
        "print(labels)"
      ],
      "metadata": {
        "colab": {
          "base_uri": "https://localhost:8080/"
        },
        "id": "pBw6aD_O7Abf",
        "outputId": "394e4b28-4dd3-4648-b483-06189eb55a4e"
      },
      "execution_count": 113,
      "outputs": [
        {
          "output_type": "stream",
          "name": "stdout",
          "text": [
            "[0 0 0 0 0 0 0 0 0 0 0 0 0 0 0 0 0 0 0 0 0 0 0 0 0 0 0 0 0 0 0 0 0 0 0 0 0\n",
            " 0 0 0 0 0 0 0 0 0 0 0 0 0 0 0 0 0 0 0 0 0 0 0 0 0 0 0 0 0 0 0 0 0 0 0 0 0\n",
            " 0 0 0 0 0 0 0 0 0 0 0 0 0 0 0 0 0 0 0 0 0 0 0 0 0 0 1 1 1 1 1 1 1 1 1 1 1\n",
            " 1 1 1 1 1 1 1 1 1 1 1 1 1 1 1 1 1 1 1 1 1 1 1 1 1 1 1 1 1 1 1 1 1 1 1 1 1\n",
            " 1 1 1 1 1 1 1 1 1 1 1 1 1 1 1 1 1 1 1 1 1 1 1 1 1 1 1 1 1 1 1 1 1 1 1 1 1\n",
            " 1 1 1 1 1 1 1 1 1 1 1 1 1 1 1 2 2 2 2 2 2 2 2 2 2 2 2 2 2 2 2 2 2 2 2 2 2\n",
            " 2 2 2 2 2 2 2 2 2 2 2 2 2 2 2 2 2 2 2 2 2 2 2 2 2 2 2 2 2 2 2 2 2 2 2 2 2\n",
            " 2 2 2 2 2 2 2 2 2 2 2 2 2 2 2 2 2 2 2 2 2 2 2 2 2 2 2 2 2 2 2 2 2 2 2 2 2\n",
            " 2 2 2 2 3 3 3 3 3 3 3 3 3 3 3 3 3 3 3 3 3 3 3 3 3 3 3 3 3 3 3 3 3 3 3 3 3\n",
            " 3 3 3 3 3 3 3 3 3 3 3 3 3 3 3 3 3 3 3 3 3 3 3 3 3 3 3 3 3 3 3 3 3 3 3 3 3\n",
            " 3 3 3 3 3 3 3 3 3 3 3 3 3 3 3 3 3 3 3 3 3 3 3 3 3 3 3 3 3 3]\n"
          ]
        }
      ]
    },
    {
      "cell_type": "code",
      "source": [
        "model"
      ],
      "metadata": {
        "colab": {
          "base_uri": "https://localhost:8080/"
        },
        "id": "m5OMMxmdDI3V",
        "outputId": "515e204c-8d81-4340-a951-a697a3a238dd"
      },
      "execution_count": 138,
      "outputs": [
        {
          "output_type": "execute_result",
          "data": {
            "text/plain": [
              "<keras.src.engine.sequential.Sequential at 0x7b7946f45810>"
            ]
          },
          "metadata": {},
          "execution_count": 138
        }
      ]
    },
    {
      "cell_type": "code",
      "source": [
        "Test_org = input_samples('/content/sodapdf-converted.jpg')\n",
        "\n",
        "\n",
        "#Predicción de clase\n",
        "start_time = datetime.datetime.now()\n",
        "\n",
        "classes = model.predict([Test_org])\n",
        "predicted_classes = np.argmax(classes, axis=1)\n",
        "\n",
        "end_time = datetime.datetime.now()\n",
        "elapsed_time = end_time - start_time\n",
        "\n",
        "for predicted_class in predicted_classes:\n",
        "    predicted_category = labels[predicted_class]\n",
        "\n",
        "    if predicted_class == 0:\n",
        "        print('La imagen pertenece a la categoría 0 (Benigna).')\n",
        "    elif predicted_class == 1:\n",
        "        print('La imagen pertenece a la categoría 1 (Early).')\n",
        "    elif predicted_class == 2:\n",
        "        print('La imagen pertenece a la categoría 2 (Pre).')\n",
        "    elif predicted_class == 3:\n",
        "        print('La imagen pertenece a la categoría 3 (Pro).')\n"
      ],
      "metadata": {
        "colab": {
          "base_uri": "https://localhost:8080/"
        },
        "id": "QmFfTZh0i956",
        "outputId": "c76ed84c-1b48-4df3-c0dc-e47168b749aa"
      },
      "execution_count": 141,
      "outputs": [
        {
          "output_type": "stream",
          "name": "stdout",
          "text": [
            "1/1 [==============================] - 0s 58ms/step\n",
            "La imagen pertenece a la categoría 0 (Benigna).\n"
          ]
        }
      ]
    }
  ]
}