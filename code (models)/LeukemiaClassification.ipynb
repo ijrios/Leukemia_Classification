{
  "nbformat": 4,
  "nbformat_minor": 0,
  "metadata": {
    "colab": {
      "provenance": []
    },
    "kernelspec": {
      "name": "python3",
      "display_name": "Python 3"
    },
    "language_info": {
      "name": "python"
    }
  },
  "cells": [
    {
      "cell_type": "code",
      "execution_count": 4,
      "metadata": {
        "colab": {
          "base_uri": "https://localhost:8080/",
          "height": 36
        },
        "id": "Wf4g-zXqSgli",
        "outputId": "dcbd47bd-1294-4662-be39-3dfc2f582b2c"
      },
      "outputs": [
        {
          "output_type": "execute_result",
          "data": {
            "text/plain": [
              "'2.13.0'"
            ],
            "application/vnd.google.colaboratory.intrinsic+json": {
              "type": "string"
            }
          },
          "metadata": {},
          "execution_count": 4
        }
      ],
      "source": [
        "from sklearn.model_selection import train_test_split\n",
        "from tensorflow.keras.models import load_model\n",
        "from tensorflow.keras import layers\n",
        "from tensorflow import keras\n",
        "import numpy as np\n",
        "import tensorflow\n",
        "import datetime\n",
        "import cv2\n",
        "import os\n",
        "tensorflow.__version__"
      ]
    },
    {
      "cell_type": "code",
      "source": [
        "! git clone https://github.com/ijrios/Leukemia_Classification"
      ],
      "metadata": {
        "colab": {
          "base_uri": "https://localhost:8080/"
        },
        "id": "yjwzNr2lcCE7",
        "outputId": "f8f3bfb0-6266-4ace-ccf6-c08e05d0d986"
      },
      "execution_count": 5,
      "outputs": [
        {
          "output_type": "stream",
          "name": "stdout",
          "text": [
            "Cloning into 'Leukemia_Classification'...\n",
            "remote: Enumerating objects: 790, done.\u001b[K\n",
            "remote: Counting objects: 100% (790/790), done.\u001b[K\n",
            "remote: Compressing objects: 100% (760/760), done.\u001b[K\n",
            "remote: Total 790 (delta 27), reused 785 (delta 26), pack-reused 0\u001b[K\n",
            "Receiving objects: 100% (790/790), 10.73 MiB | 24.53 MiB/s, done.\n",
            "Resolving deltas: 100% (27/27), done.\n"
          ]
        }
      ]
    },
    {
      "cell_type": "code",
      "source": [
        "data_dir = '/content/Leukemia_Classification/data/images/Original'\n",
        "class_labels = os.listdir(data_dir)  #Lista de carpetas, cada una representando una clase\n",
        "\n",
        "images = []\n",
        "labels = []\n",
        "\n",
        "width = 224 #Ancho en píxeles\n",
        "height = 224 #Altura en píxeles\n",
        "\n",
        "\n",
        "for label, class_name in enumerate(class_labels):\n",
        "    class_dir = os.path.join(data_dir, class_name)\n",
        "    for image_name in os.listdir(class_dir):\n",
        "        image_path = os.path.join(class_dir, image_name)\n",
        "        image = cv2.imread(image_path)\n",
        "        if image is not None:\n",
        "            image = cv2.resize(image, (width, height))\n",
        "            image = image / 255.0  #Normalización valores de píxeles al rango [0, 1]\n",
        "            images.append(image)\n",
        "            labels.append(label)\n",
        "        else:\n",
        "            print(f\"Error al cargar la imagen: {image_path}\")\n",
        "\n",
        "images = np.array(images)\n",
        "labels = np.array(labels)\n",
        "\n",
        "train_images, test_images, train_labels, test_labels = train_test_split(images, labels, test_size=0.2, random_state=42)"
      ],
      "metadata": {
        "id": "QnFcy4LBXqon"
      },
      "execution_count": 20,
      "outputs": []
    },
    {
      "cell_type": "code",
      "source": [
        "#CNN model\n",
        "model = keras.Sequential([\n",
        "    layers.Conv2D(32, (3, 3), activation='relu', input_shape=(height, width, 3)),\n",
        "    layers.MaxPooling2D((2, 2)),\n",
        "    layers.Conv2D(64, (3, 3), activation='relu'),\n",
        "    layers.MaxPooling2D((2, 2)),\n",
        "    layers.Flatten(),\n",
        "    layers.Dense(128, activation='relu'),\n",
        "    layers.Dense(4, activation='softmax')  # Four classes\n",
        "])\n",
        "\n",
        "model.compile(optimizer='adam',\n",
        "              loss='sparse_categorical_crossentropy',\n",
        "              metrics=['accuracy'])\n",
        "#Train model\n",
        "model.fit(train_images, train_labels, epochs=10, validation_data=(test_images, test_labels))"
      ],
      "metadata": {
        "colab": {
          "base_uri": "https://localhost:8080/"
        },
        "id": "elMcG5ZNSwIa",
        "outputId": "ab741dd6-08bf-4008-a44b-b4125aaa74b8"
      },
      "execution_count": 21,
      "outputs": [
        {
          "output_type": "stream",
          "name": "stdout",
          "text": [
            "Epoch 1/10\n",
            "10/10 [==============================] - 43s 4s/step - loss: 5.5122 - accuracy: 0.2937 - val_loss: 1.2828 - val_accuracy: 0.3125\n",
            "Epoch 2/10\n",
            "10/10 [==============================] - 31s 3s/step - loss: 1.0998 - accuracy: 0.4406 - val_loss: 1.0204 - val_accuracy: 0.5000\n",
            "Epoch 3/10\n",
            "10/10 [==============================] - 31s 3s/step - loss: 0.7145 - accuracy: 0.7250 - val_loss: 0.9337 - val_accuracy: 0.6000\n",
            "Epoch 4/10\n",
            "10/10 [==============================] - 33s 3s/step - loss: 0.4438 - accuracy: 0.8281 - val_loss: 0.7862 - val_accuracy: 0.6375\n",
            "Epoch 5/10\n",
            "10/10 [==============================] - 31s 3s/step - loss: 0.1986 - accuracy: 0.9438 - val_loss: 1.2365 - val_accuracy: 0.5875\n",
            "Epoch 6/10\n",
            "10/10 [==============================] - 31s 3s/step - loss: 0.1214 - accuracy: 0.9688 - val_loss: 1.1539 - val_accuracy: 0.6250\n",
            "Epoch 7/10\n",
            "10/10 [==============================] - 31s 3s/step - loss: 0.0714 - accuracy: 0.9844 - val_loss: 0.8259 - val_accuracy: 0.6875\n",
            "Epoch 8/10\n",
            "10/10 [==============================] - 35s 3s/step - loss: 0.0194 - accuracy: 1.0000 - val_loss: 1.4354 - val_accuracy: 0.6375\n",
            "Epoch 9/10\n",
            "10/10 [==============================] - 34s 3s/step - loss: 0.0087 - accuracy: 1.0000 - val_loss: 1.1062 - val_accuracy: 0.7500\n",
            "Epoch 10/10\n",
            "10/10 [==============================] - 35s 4s/step - loss: 0.0038 - accuracy: 1.0000 - val_loss: 1.3699 - val_accuracy: 0.6750\n"
          ]
        },
        {
          "output_type": "execute_result",
          "data": {
            "text/plain": [
              "<keras.src.callbacks.History at 0x7b79360d17b0>"
            ]
          },
          "metadata": {},
          "execution_count": 21
        }
      ]
    },
    {
      "cell_type": "code",
      "source": [
        "Test_org = '/content/Leukemia_Classification/data/images/Original/Benign/WBC-Benign-001.jpg'\n",
        "\n",
        "light_orange = (168, 50, 50)\n",
        "dark_orange = (182, 255, 255)\n",
        "\n",
        "image = cv2.imread(Test_org)\n",
        "image = cv2.cvtColor(image, cv2.COLOR_RGB2HSV)\n",
        "mask = cv2.inRange(image, light_orange, dark_orange)\n",
        "result = cv2.bitwise_and(image, image, mask=mask)\n",
        "result = cv2.resize(result, (224, 224))\n",
        "image_name = Test_org.split(sep='/')[-1]\n",
        "Test_seg = f'/content/Test-images/Seg-{image_name}'\n",
        "cv2.imwrite(Test_seg, result)"
      ],
      "metadata": {
        "id": "ZV_-_6MkSnaf",
        "colab": {
          "base_uri": "https://localhost:8080/"
        },
        "outputId": "235a34bf-f5df-4359-cd0a-456ca051ac54"
      },
      "execution_count": 28,
      "outputs": [
        {
          "output_type": "execute_result",
          "data": {
            "text/plain": [
              "True"
            ]
          },
          "metadata": {},
          "execution_count": 28
        }
      ]
    },
    {
      "cell_type": "code",
      "source": [
        "from IPython.display import Image, display\n",
        "\n",
        "image_path = '/content/Test-images/Seg-WBC-Benign-001.jpg'\n",
        "display(Image(filename=image_path))"
      ],
      "metadata": {
        "colab": {
          "base_uri": "https://localhost:8080/",
          "height": 241
        },
        "id": "gugruyhpkXZg",
        "outputId": "a7df1374-d231-4b52-d0ce-9df9cb92b227"
      },
      "execution_count": 33,
      "outputs": [
        {
          "output_type": "display_data",
          "data": {
            "image/jpeg": "[encoded data removed]",
            "text/plain": [
              "<IPython.core.display.Image object>"
            ]
          },
          "metadata": {}
        }
      ]
    },
    {
      "cell_type": "code",
      "source": [
        "def input_samples (TEST):\n",
        "    test_img = tensorflow.keras.preprocessing.image.load_img(TEST, target_size=(224, 224))\n",
        "    x = tensorflow.keras.preprocessing.image.img_to_array(test_img)\n",
        "    x = np.expand_dims(x, axis=0)\n",
        "    x = x/255\n",
        "    images = np.vstack([x])\n",
        "    return images"
      ],
      "metadata": {
        "id": "NtUbZmmmknl3"
      },
      "execution_count": 34,
      "outputs": []
    },
    {
      "cell_type": "code",
      "source": [
        "categories = ['Benign', 'Early', 'Pre', 'Pro']\n",
        "\n",
        "Test_org = input_samples('/content/Leukemia_Classification/data/images/Original/Benign/WBC-Benign-001.jpg')\n",
        "Test_seg = input_samples('/content/Test-images/Seg-WBC-Benign-001.jpg')\n",
        "\n",
        "# Realiza la predicción de clase\n",
        "start_time = datetime.datetime.now()\n",
        "\n",
        "classes = model.predict([Test_org, Test_seg])\n",
        "predicted_class = np.argmax(classes, axis=1)\n",
        "\n",
        "end_time = datetime.datetime.now()\n",
        "elapsed_time = end_time - start_time\n"
      ],
      "metadata": {
        "colab": {
          "base_uri": "https://localhost:8080/"
        },
        "id": "QmFfTZh0i956",
        "outputId": "6ee870d6-e5b6-4ba0-ed6c-6e01786e80a1"
      },
      "execution_count": 42,
      "outputs": [
        {
          "output_type": "stream",
          "name": "stdout",
          "text": [
            "1/1 [==============================] - 0s 25ms/step\n"
          ]
        }
      ]
    }
  ]
}